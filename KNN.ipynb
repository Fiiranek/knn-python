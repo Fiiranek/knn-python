{
 "cells": [
  {
   "cell_type": "code",
   "execution_count": 2,
   "id": "54a72767",
   "metadata": {},
   "outputs": [],
   "source": [
    "# import libraries\n",
    "from math import dist\n",
    "import pandas as pd\n",
    "import numpy as np"
   ]
  },
  {
   "cell_type": "code",
   "execution_count": 3,
   "id": "e2baf298",
   "metadata": {},
   "outputs": [],
   "source": [
    "# open dataaset\n",
    "movies_dataset = pd.read_csv('movies.csv', delimiter=',')"
   ]
  },
  {
   "cell_type": "code",
   "execution_count": 4,
   "id": "71bc9646",
   "metadata": {},
   "outputs": [],
   "source": [
    "def create_features_mappings(dataset) -> dict:\n",
    "    \"\"\"\n",
    "    Creates dictionary with mapping of movie genres, directors, stars, countries, companies\n",
    "    To measure distance between points, we need to first transform string types to numeric values\n",
    "    :argument: dataset\n",
    "    :return: dictionary with mappings\n",
    "\n",
    "    Return example\n",
    "   {\n",
    "        \"directors\": {\n",
    "            \"John Smith\": 0,\n",
    "            \"Quentin Tarantino\": 1\n",
    "        },\n",
    "        ...\n",
    "        \"genres\": {\n",
    "            \"Action\": 0,\n",
    "            \"Adventure\": 1\n",
    "        }\n",
    "    }\n",
    "\n",
    "    \"\"\"\n",
    "    movie_genres_mapping: dict = create_single_feature_mapping(dataset, 'genre')\n",
    "    movie_directors_mapping: dict = create_single_feature_mapping(dataset, 'director')\n",
    "    movie_stars_mapping: dict = create_single_feature_mapping(dataset, 'star')\n",
    "    movie_countries_mapping: dict = create_single_feature_mapping(dataset, 'country')\n",
    "    movie_companies_mapping: dict = create_single_feature_mapping(dataset, 'company')\n",
    "\n",
    "    return {\n",
    "        \"directors\": movie_directors_mapping,\n",
    "        \"stars\": movie_stars_mapping,\n",
    "        \"countries\": movie_countries_mapping,\n",
    "        \"companies\": movie_companies_mapping,\n",
    "        \"genres\": movie_genres_mapping\n",
    "    }\n",
    "\n"
   ]
  },
  {
   "cell_type": "code",
   "execution_count": 6,
   "id": "cfa6c49e",
   "metadata": {},
   "outputs": [],
   "source": [
    "def create_single_feature_mapping(dataset: pd.DataFrame, col_name: str) -> dict:\n",
    "    \"\"\"\n",
    "    Create single feature mapping\n",
    "    To measure distance between points, we need to first transform string types to numeric values\n",
    "    :argument: dataset, column name\n",
    "    :return: dictionary with mapping\n",
    "\n",
    "    Return example\n",
    "    {\n",
    "        \"Action\": 0,\n",
    "        \"Adventure\": 1\n",
    "    }\n",
    "\n",
    "    \"\"\"\n",
    "    mapping = {}\n",
    "    unique_list = dataset[col_name].array.unique()\n",
    "    counter = 0\n",
    "    for feature_name in unique_list:\n",
    "        mapping[feature_name] = counter\n",
    "        counter += 1\n",
    "    return mapping"
   ]
  },
  {
   "cell_type": "code",
   "execution_count": 15,
   "id": "0c2c0748",
   "metadata": {},
   "outputs": [],
   "source": [
    "class KNN:\n",
    "    \"\"\"\n",
    "    Basic KNN algorithm implementation with Euclidean distance as distance metric and k=1 as default value\n",
    "    \"\"\"\n",
    "    def fit(self, x_train, y_train):\n",
    "        self.x_train = x_train\n",
    "        self.y_train = y_train\n",
    "\n",
    "    def predict(self, x_test):\n",
    "        \"\"\"\n",
    "        Predicts test data\n",
    "        Returns list of predicted scores\n",
    "        :param x_test: list (containing numpyp arrays)\n",
    "        :return:\n",
    "        \"\"\"\n",
    "        mapping = create_features_mappings(movies_dataset)\n",
    "\n",
    "        predictions = []\n",
    "        for row in x_test:\n",
    "            test_data = row.copy()\n",
    "            test_data[0] = mapping[\"genres\"][test_data[0]]\n",
    "            test_data[4] = mapping[\"directors\"][test_data[4]]\n",
    "            test_data[5] = mapping[\"stars\"][test_data[5]]\n",
    "            test_data[6] = mapping[\"countries\"][test_data[6]]\n",
    "            test_data[7] = mapping[\"companies\"][test_data[7]]\n",
    "            test_data = list(map(lambda e: float(e), test_data))\n",
    "            label = self.closest_neighbour(test_data)\n",
    "            predictions.append(label)\n",
    "\n",
    "        return predictions\n",
    "\n",
    "    def closest_neighbour(self, row):\n",
    "        \"\"\"\n",
    "        Finds closest neighbour to given data\n",
    "        :param row:\n",
    "        :return:\n",
    "        \"\"\"\n",
    "        best_distance = dist(row, self.x_train[0])\n",
    "        best_index = 0\n",
    "        for i in range(1, len(self.x_train)):\n",
    "            # check if there is closer neighbour\n",
    "            if dist(row, self.x_train[i]) < best_distance:\n",
    "                best_distance = dist(row, self.x_train[i])\n",
    "                best_index = i\n",
    "        return self.y_train[best_index]"
   ]
  },
  {
   "cell_type": "code",
   "execution_count": 8,
   "id": "133612d3",
   "metadata": {},
   "outputs": [],
   "source": [
    "# create features and labels lists\n",
    "features = []\n",
    "labels = []"
   ]
  },
  {
   "cell_type": "code",
   "execution_count": 9,
   "id": "7d08b763",
   "metadata": {},
   "outputs": [],
   "source": [
    "# create features mapping from movies dataset\n",
    "features_mapping = create_features_mappings(movies_dataset)"
   ]
  },
  {
   "cell_type": "code",
   "execution_count": 10,
   "id": "60efd614",
   "metadata": {},
   "outputs": [],
   "source": [
    "# append features and labels from dataset to lists\n",
    "for i in range(len(movies_dataset['score'])):\n",
    "    features.append(np.array([\n",
    "        features_mapping[\"genres\"][movies_dataset['genre'][i]],\n",
    "        int(movies_dataset['year'][i]),\n",
    "        float(movies_dataset['runtime'][i]),\n",
    "        float(movies_dataset['votes'][i]),\n",
    "        features_mapping[\"directors\"][movies_dataset['director'][i]],\n",
    "        features_mapping[\"stars\"][movies_dataset['star'][i]],\n",
    "        features_mapping[\"countries\"][movies_dataset['country'][i]],\n",
    "        features_mapping[\"companies\"][movies_dataset['company'][i]],\n",
    "    ]))\n",
    "    labels.append(float(movies_dataset['score'][i]))"
   ]
  },
  {
   "cell_type": "code",
   "execution_count": 11,
   "id": "0a670cc7",
   "metadata": {},
   "outputs": [],
   "source": [
    "features = np.array(features)\n",
    "labels = np.array(labels)"
   ]
  },
  {
   "cell_type": "code",
   "execution_count": 12,
   "id": "b2e2e58c",
   "metadata": {},
   "outputs": [],
   "source": [
    "# create classifier instance\n",
    "classifier = KNN()"
   ]
  },
  {
   "cell_type": "code",
   "execution_count": 13,
   "id": "58da2be5",
   "metadata": {},
   "outputs": [],
   "source": [
    "# train classifier\n",
    "classifier.fit(features, labels)"
   ]
  },
  {
   "cell_type": "code",
   "execution_count": 14,
   "id": "e1c25d15",
   "metadata": {},
   "outputs": [
    {
     "name": "stdout",
     "output_type": "stream",
     "text": [
      "[8.4, 7.0]\n"
     ]
    }
   ],
   "source": [
    "# examples\n",
    "print(classifier.predict(\n",
    "    [\n",
    "        np.array([\n",
    "            'Drama',\n",
    "            1980,\n",
    "            146.0,\n",
    "            927000.0,\n",
    "            'Stanley Kubrick',\n",
    "            'Jack Nicholson',\n",
    "            'United Kingdom',\n",
    "            'Warner Bros.'\n",
    "        ]),\n",
    "        np.array([\n",
    "            'Action',\n",
    "            1980,\n",
    "            128.0,\n",
    "            10000.0,\n",
    "            'Richard Lester',\n",
    "            'Jack Nicholson',\n",
    "            'United Kingdom',\n",
    "            'Warner Bros.'\n",
    "        ])\n",
    "\n",
    "    ]\n",
    "))\n"
   ]
  },
  {
   "cell_type": "code",
   "execution_count": null,
   "id": "831e82cb",
   "metadata": {},
   "outputs": [],
   "source": []
  }
 ],
 "metadata": {
  "kernelspec": {
   "display_name": "Python 3 (ipykernel)",
   "language": "python",
   "name": "python3"
  },
  "language_info": {
   "codemirror_mode": {
    "name": "ipython",
    "version": 3
   },
   "file_extension": ".py",
   "mimetype": "text/x-python",
   "name": "python",
   "nbconvert_exporter": "python",
   "pygments_lexer": "ipython3",
   "version": "3.10.4"
  }
 },
 "nbformat": 4,
 "nbformat_minor": 5
}
